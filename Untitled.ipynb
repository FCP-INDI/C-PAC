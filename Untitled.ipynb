{
 "cells": [
  {
   "cell_type": "code",
   "execution_count": 5,
   "metadata": {},
   "outputs": [
    {
     "name": "stdout",
     "output_type": "stream",
     "text": [
      "bet /home/anibalsolon/cpac_tests/jdkent/ds005/sub-01/func/lol/original_func.nii.gz brain.nii -f 0.20 -m\n"
     ]
    }
   ],
   "source": [
    "from nipype.interfaces import fsl\n",
    "btr = fsl.BET()\n",
    "btr.inputs.in_file = '/home/anibalsolon/cpac_tests/jdkent/ds005/sub-01/func/lol/original_func.nii.gz'\n",
    "btr.inputs.frac = 0.2\n",
    "btr.inputs.out_file = 'brain.nii'\n",
    "btr.inputs.mask = True\n",
    "print(btr.cmdline)\n"
   ]
  },
  {
   "cell_type": "code",
   "execution_count": 2,
   "metadata": {},
   "outputs": [
    {
     "name": "stdout",
     "output_type": "stream",
     "text": [
      "++ 3dinfo: AFNI version=AFNI_18.1.31 (Jun 25 2018) [64-bit]\n",
      "\n",
      "Dataset File:    brain_mask.nii.gz\n",
      "Identifier Code: NII_Jk_yl8fyiZUXTYM-Y_AqOA  Creation Date: Fri Aug  9 13:53:23 2019\n",
      "Template Space:  ORIG\n",
      "Dataset Type:    Anat Bucket (-abuc)\n",
      "Byte Order:      LSB_FIRST {assumed} [this CPU native = LSB_FIRST]\n",
      "Storage Mode:    NIFTI\n",
      "Storage Space:   170,000 (170 thousand [kilo]) bytes\n",
      "Geometry String: \"MATRIX(4,0,0,-101,0,-4,0,72,0,0,4,-99):50,50,34\"\n",
      "Data Axes Tilt:  Plumb\n",
      "Data Axes Orientation:\n",
      "  first  (x) = Right-to-Left\n",
      "  second (y) = Posterior-to-Anterior\n",
      "  third  (z) = Inferior-to-Superior   [-orient RPI]\n",
      "R-to-L extent:  -101.000 [R] -to-    95.000 [L] -step-     4.000 mm [ 50 voxels]\n",
      "A-to-P extent:  -124.000 [A] -to-    72.000 [P] -step-     4.000 mm [ 50 voxels]\n",
      "I-to-S extent:   -99.000 [I] -to-    33.000 [S] -step-     4.000 mm [ 34 voxels]\n",
      "Number of values stored at each pixel = 1\n",
      "  -- At sub-brick #0 '?' datum type is short\n",
      "\n"
     ]
    }
   ],
   "source": [
    "!3dinfo brain_mask.nii.gz"
   ]
  },
  {
   "cell_type": "code",
   "execution_count": 3,
   "metadata": {},
   "outputs": [
    {
     "data": {
      "text/plain": [
       "(50, 50, 34)"
      ]
     },
     "execution_count": 3,
     "metadata": {},
     "output_type": "execute_result"
    }
   ],
   "source": [
    "import nibabel as nb\n",
    "nb.load('brain_mask.nii.gz').shape"
   ]
  },
  {
   "cell_type": "code",
   "execution_count": null,
   "metadata": {},
   "outputs": [],
   "source": []
  }
 ],
 "metadata": {
  "kernelspec": {
   "display_name": "Python 3",
   "language": "python",
   "name": "python3"
  },
  "language_info": {
   "codemirror_mode": {
    "name": "ipython",
    "version": 3
   },
   "file_extension": ".py",
   "mimetype": "text/x-python",
   "name": "python",
   "nbconvert_exporter": "python",
   "pygments_lexer": "ipython3",
   "version": "3.6.7"
  }
 },
 "nbformat": 4,
 "nbformat_minor": 2
}
